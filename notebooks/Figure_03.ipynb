{
 "cells": [
  {
   "cell_type": "code",
   "execution_count": 1,
   "metadata": {
    "ExecuteTime": {
     "end_time": "2021-05-14T01:47:45.316032Z",
     "start_time": "2021-05-14T01:46:35.575757Z"
    }
   },
   "outputs": [],
   "source": [
    "import math\n",
    "from scipy import interpolate\n",
    "import gsw\n",
    "from xmitgcm import open_mdsdataset\n",
    "import numpy as np\n",
    "import xarray as xr\n",
    "import copy\n",
    "from matplotlib import pyplot as plt\n",
    "import matplotlib.colors\n",
    "%matplotlib inline"
   ]
  },
  {
   "cell_type": "code",
   "execution_count": 2,
   "metadata": {
    "ExecuteTime": {
     "end_time": "2021-05-14T01:47:45.323505Z",
     "start_time": "2021-05-14T01:47:45.318793Z"
    }
   },
   "outputs": [],
   "source": [
    "plt.rcParams.update({'font.size': 14\n",
    "    , 'legend.markerscale': 1., 'axes.titlesize': 14, 'axes.labelsize' : 14,\n",
    "      'legend.fontsize' : 14,'legend.handlelength': 2})\n",
    "\n",
    "plt.rc('xtick', labelsize=16) \n",
    "plt.rc('ytick', labelsize=16)"
   ]
  },
  {
   "cell_type": "code",
   "execution_count": 3,
   "metadata": {
    "ExecuteTime": {
     "end_time": "2021-05-14T01:48:31.506160Z",
     "start_time": "2021-05-14T01:47:45.326047Z"
    }
   },
   "outputs": [
    {
     "name": "stderr",
     "output_type": "stream",
     "text": [
      "/WORK/sio_goc03/anaconda3/envs/eddypy/lib/python3.5/site-packages/xmitgcm/mds_store.py:217: FutureWarning: In xarray version 0.13 `auto_combine` will be deprecated.\n",
      "  ds = xr.auto_combine(datasets)\n",
      "/WORK/sio_goc03/anaconda3/envs/eddypy/lib/python3.5/site-packages/xmitgcm/mds_store.py:217: FutureWarning: The datasets supplied have global dimension coordinates. You may want\n",
      "to use the new `combine_by_coords` function (or the\n",
      "`combine='by_coords'` option to `open_mfdataset` to order the datasets\n",
      "before concatenation. Alternatively, to continue concatenating based\n",
      "on the order the datasets are supplied in in future, please use the\n",
      "new `combine_nested` function (or the `combine='nested'` option to\n",
      "open_mfdataset).The datasets supplied require both concatenation and merging. From\n",
      "xarray version 0.14 this will operation will require either using the\n",
      "new `combine_nested` function (or the `combine='nested'` option to\n",
      "open_mfdataset), with a nested list structure such that you can combine\n",
      "along the dimensions None. Alternatively if your datasets have global\n",
      "dimension coordinates then you can use the new `combine_by_coords`\n",
      "function.\n",
      "  ds = xr.auto_combine(datasets)\n"
     ]
    }
   ],
   "source": [
    "t0 = 280\n",
    "t1 = 300\n",
    "\n",
    "data_dir = '/WORK/sio_goc03/pv_flux/coarse_0918/den_jump2/'\n",
    "ds = open_mdsdataset(data_dir, prefix={'xyMom_ave'}).chunk()\n",
    " \n",
    "uvel = ds.UVEL[t0:t1, 0, :, :]\n",
    "vvel = ds.VVEL[t0:t1, 0, :, :]\n",
    "uvelsq = ds.UVELSQ[t0:t1, 0, :, :]\n",
    "vvelsq = ds.VVELSQ[t0:t1, 0, :, :]\n",
    "eke_u = 0.5 * (uvelsq - uvel**2) * 1e4\n",
    "eke_v = 0.5 * (vvelsq - vvel**2) * 1e4\n",
    "#eke_u = eke_u.where(eke_u != 0)\n",
    "\n",
    "eke_u = eke_u.values\n",
    "eke_v = eke_v.values\n",
    "    \n",
    "eke = eke_u + eke_v\n",
    "\n",
    "eke11 = np.mean(eke, 0)"
   ]
  },
  {
   "cell_type": "code",
   "execution_count": 4,
   "metadata": {
    "ExecuteTime": {
     "end_time": "2021-05-14T01:48:45.057639Z",
     "start_time": "2021-05-14T01:48:31.510477Z"
    }
   },
   "outputs": [
    {
     "name": "stderr",
     "output_type": "stream",
     "text": [
      "/WORK/sio_goc03/anaconda3/envs/eddypy/lib/python3.5/site-packages/xmitgcm/mds_store.py:217: FutureWarning: In xarray version 0.13 `auto_combine` will be deprecated.\n",
      "  ds = xr.auto_combine(datasets)\n",
      "/WORK/sio_goc03/anaconda3/envs/eddypy/lib/python3.5/site-packages/xmitgcm/mds_store.py:217: FutureWarning: The datasets supplied have global dimension coordinates. You may want\n",
      "to use the new `combine_by_coords` function (or the\n",
      "`combine='by_coords'` option to `open_mfdataset` to order the datasets\n",
      "before concatenation. Alternatively, to continue concatenating based\n",
      "on the order the datasets are supplied in in future, please use the\n",
      "new `combine_nested` function (or the `combine='nested'` option to\n",
      "open_mfdataset).The datasets supplied require both concatenation and merging. From\n",
      "xarray version 0.14 this will operation will require either using the\n",
      "new `combine_nested` function (or the `combine='nested'` option to\n",
      "open_mfdataset), with a nested list structure such that you can combine\n",
      "along the dimensions None. Alternatively if your datasets have global\n",
      "dimension coordinates then you can use the new `combine_by_coords`\n",
      "function.\n",
      "  ds = xr.auto_combine(datasets)\n",
      "/WORK/sio_goc03/anaconda3/envs/eddypy/lib/python3.5/site-packages/ipykernel_launcher.py:20: RuntimeWarning: Mean of empty slice\n"
     ]
    }
   ],
   "source": [
    "t0 = 30\n",
    "t1 = 50\n",
    "\n",
    "data_dir = '/WORK/sio_goc03/pv_flux/fine_0918/crun_0.3/'\n",
    "ds = open_mdsdataset(data_dir, prefix={'xyMom_ave'}).chunk()\n",
    " \n",
    "uvel = ds.UVEL[t0:t1, 0, :, :]\n",
    "vvel = ds.VVEL[t0:t1, 0, :, :]\n",
    "uvelsq = ds.UVELSQ[t0:t1, 0, :, :]\n",
    "vvelsq = ds.VVELSQ[t0:t1, 0, :, :]\n",
    "eke_u = 0.5 * (uvelsq - uvel**2) * 1e4\n",
    "eke_v = 0.5 * (vvelsq - vvel**2) * 1e4\n",
    "eke_u = eke_u.where(eke_u != 0)\n",
    "\n",
    "eke_u = eke_u.values\n",
    "eke_v = eke_v.values\n",
    "    \n",
    "eke = eke_u + eke_v\n",
    "\n",
    "eke21 = np.nanmean(eke, 0)"
   ]
  },
  {
   "cell_type": "code",
   "execution_count": 5,
   "metadata": {
    "ExecuteTime": {
     "end_time": "2021-05-14T01:49:21.317891Z",
     "start_time": "2021-05-14T01:48:45.060751Z"
    }
   },
   "outputs": [
    {
     "name": "stderr",
     "output_type": "stream",
     "text": [
      "/WORK/sio_goc03/anaconda3/envs/eddypy/lib/python3.5/site-packages/xmitgcm/mds_store.py:217: FutureWarning: In xarray version 0.13 `auto_combine` will be deprecated.\n",
      "  ds = xr.auto_combine(datasets)\n",
      "/WORK/sio_goc03/anaconda3/envs/eddypy/lib/python3.5/site-packages/xmitgcm/mds_store.py:217: FutureWarning: The datasets supplied have global dimension coordinates. You may want\n",
      "to use the new `combine_by_coords` function (or the\n",
      "`combine='by_coords'` option to `open_mfdataset` to order the datasets\n",
      "before concatenation. Alternatively, to continue concatenating based\n",
      "on the order the datasets are supplied in in future, please use the\n",
      "new `combine_nested` function (or the `combine='nested'` option to\n",
      "open_mfdataset).The datasets supplied require both concatenation and merging. From\n",
      "xarray version 0.14 this will operation will require either using the\n",
      "new `combine_nested` function (or the `combine='nested'` option to\n",
      "open_mfdataset), with a nested list structure such that you can combine\n",
      "along the dimensions None. Alternatively if your datasets have global\n",
      "dimension coordinates then you can use the new `combine_by_coords`\n",
      "function.\n",
      "  ds = xr.auto_combine(datasets)\n",
      "/WORK/sio_goc03/anaconda3/envs/eddypy/lib/python3.5/site-packages/ipykernel_launcher.py:17: RuntimeWarning: Mean of empty slice\n"
     ]
    }
   ],
   "source": [
    "data_dir = '/WORK/sio_goc03/pv_flux/fine_0918/den_jump2/'\n",
    "ds = open_mdsdataset(data_dir, prefix={'xyMom_ave'}).chunk()\n",
    " \n",
    "uvel = ds.UVEL[t0:t1, 0, :, :]\n",
    "vvel = ds.VVEL[t0:t1, 0, :, :]\n",
    "uvelsq = ds.UVELSQ[t0:t1, 0, :, :]\n",
    "vvelsq = ds.VVELSQ[t0:t1, 0, :, :]\n",
    "eke_u = 0.5 * (uvelsq - uvel**2) * 1e4\n",
    "eke_v = 0.5 * (vvelsq - vvel**2) * 1e4\n",
    "eke_u = eke_u.where(eke_u != 0)\n",
    "\n",
    "eke_u = eke_u.values\n",
    "eke_v = eke_v.values\n",
    "    \n",
    "eke = eke_u + eke_v\n",
    "\n",
    "eke22 = np.nanmean(eke, 0)"
   ]
  },
  {
   "cell_type": "code",
   "execution_count": 6,
   "metadata": {
    "ExecuteTime": {
     "end_time": "2021-05-14T01:50:29.157556Z",
     "start_time": "2021-05-14T01:49:21.320788Z"
    }
   },
   "outputs": [
    {
     "name": "stderr",
     "output_type": "stream",
     "text": [
      "/WORK/sio_goc03/anaconda3/envs/eddypy/lib/python3.5/site-packages/xmitgcm/mds_store.py:217: FutureWarning: In xarray version 0.13 `auto_combine` will be deprecated.\n",
      "  ds = xr.auto_combine(datasets)\n",
      "/WORK/sio_goc03/anaconda3/envs/eddypy/lib/python3.5/site-packages/xmitgcm/mds_store.py:217: FutureWarning: The datasets supplied have global dimension coordinates. You may want\n",
      "to use the new `combine_by_coords` function (or the\n",
      "`combine='by_coords'` option to `open_mfdataset` to order the datasets\n",
      "before concatenation. Alternatively, to continue concatenating based\n",
      "on the order the datasets are supplied in in future, please use the\n",
      "new `combine_nested` function (or the `combine='nested'` option to\n",
      "open_mfdataset).The datasets supplied require both concatenation and merging. From\n",
      "xarray version 0.14 this will operation will require either using the\n",
      "new `combine_nested` function (or the `combine='nested'` option to\n",
      "open_mfdataset), with a nested list structure such that you can combine\n",
      "along the dimensions None. Alternatively if your datasets have global\n",
      "dimension coordinates then you can use the new `combine_by_coords`\n",
      "function.\n",
      "  ds = xr.auto_combine(datasets)\n",
      "/WORK/sio_goc03/anaconda3/envs/eddypy/lib/python3.5/site-packages/ipykernel_launcher.py:17: RuntimeWarning: Mean of empty slice\n"
     ]
    }
   ],
   "source": [
    "data_dir = '/WORK/sio_goc03/pv_flux/fine_32/crun/'\n",
    "ds = open_mdsdataset(data_dir, prefix={'xyMom_ave'}).chunk()\n",
    "\n",
    "uvel = ds.UVEL[t0:t1, 0, :, :]\n",
    "vvel = ds.VVEL[t0:t1, 0, :, :]\n",
    "uvelsq = ds.UVELSQ[t0:t1, 0, :, :]\n",
    "vvelsq = ds.VVELSQ[t0:t1, 0, :, :]\n",
    "eke_u = 0.5 * (uvelsq - uvel**2) * 1e4\n",
    "eke_v = 0.5 * (vvelsq - vvel**2) * 1e4\n",
    "eke_u = eke_u.where(eke_u != 0)\n",
    "\n",
    "eke_u = eke_u.values\n",
    "eke_v = eke_v.values\n",
    "    \n",
    "eke = eke_u + eke_v\n",
    "\n",
    "eke24 = np.nanmean(eke, 0)"
   ]
  },
  {
   "cell_type": "code",
   "execution_count": 9,
   "metadata": {
    "ExecuteTime": {
     "end_time": "2021-05-14T01:56:50.156019Z",
     "start_time": "2021-05-14T01:56:49.131242Z"
    }
   },
   "outputs": [
    {
     "name": "stderr",
     "output_type": "stream",
     "text": [
      "/WORK/sio_goc03/anaconda3/envs/eddypy/lib/python3.5/site-packages/ipykernel_launcher.py:13: RuntimeWarning: Mean of empty slice\n",
      "  del sys.path[0]\n",
      "/WORK/sio_goc03/anaconda3/envs/eddypy/lib/python3.5/site-packages/ipykernel_launcher.py:16: RuntimeWarning: Mean of empty slice\n",
      "  app.launch_new_instance()\n",
      "/WORK/sio_goc03/anaconda3/envs/eddypy/lib/python3.5/site-packages/ipykernel_launcher.py:19: RuntimeWarning: Mean of empty slice\n"
     ]
    },
    {
     "data": {
      "image/png": "[encoded data removed]",
      "text/plain": [
       "<Figure size 576x576 with 1 Axes>"
      ]
     },
     "metadata": {
      "needs_background": "light"
     },
     "output_type": "display_data"
    }
   ],
   "source": [
    "lat1 = np.arange(0.5, 60, 1)\n",
    "lat2 = np.arange(0.05, 60, 0.1)\n",
    "lat4 = np.arange(0.03125/2, 60, 0.03125)\n",
    "\n",
    "fig = plt.figure(figsize=(8, 8))\n",
    "\n",
    "#plt.subplot(121)\n",
    "\n",
    "datatmp = np.log10(np.nanmean(eke11[:, :]+1, 1))\n",
    "plt.plot(datatmp, lat1, color='k', linewidth=2.5, linestyle='-', label='D1')\n",
    "\n",
    "\n",
    "datatmp = np.log10(np.nanmean(eke21[:, :], 1))\n",
    "plt.plot(datatmp, np.arange(0.3125/2, 60, 0.3125), color='g', linewidth=2.5, label='D3.2')\n",
    "\n",
    "datatmp = np.log10(np.nanmean(eke22[:, :], 1))\n",
    "plt.plot(datatmp, lat2, color='dodgerblue', linewidth=2.5, label='D10')\n",
    "\n",
    "datatmp = np.log10(np.nanmean(eke24[:, :], 1))\n",
    "plt.plot(datatmp, lat4, color='r', linewidth=2.5, label='D32')\n",
    "\n",
    "levs2 = np.array([np.log10(1), np.log10(10), np.log10(100), np.log10(1000)])\n",
    "plt.xticks(levs2, ('$10^{0}$', '$10^{1}$', '$10^{2}$', '$10^{3}$'))\n",
    "plt.xlim(-0.2, np.log10(2800))\n",
    "\n",
    "plt.ylabel('LAT', size=18)\n",
    "plt.xlabel('EKE (cm$^2 s^{-2}$)', size=18)\n",
    "#plt.title('0.1 degree')\n",
    "\n",
    "plt.grid()\n",
    "plt.legend(loc=1)\n",
    "plt.ylim(0, 60)\n",
    "#plt.text(-0.2, 62, '(a)', size=20)\n",
    "\n",
    "savename = './pics/Figure_03.png'\n",
    "plt.savefig(savename, dpi=200)\n"
   ]
  },
  {
   "cell_type": "code",
   "execution_count": null,
   "metadata": {},
   "outputs": [],
   "source": []
  }
 ],
 "metadata": {
  "hide_input": false,
  "kernelspec": {
   "display_name": "Python 3",
   "language": "python",
   "name": "python3"
  },
  "language_info": {
   "codemirror_mode": {
    "name": "ipython",
    "version": 3
   },
   "file_extension": ".py",
   "mimetype": "text/x-python",
   "name": "python",
   "nbconvert_exporter": "python",
   "pygments_lexer": "ipython3",
   "version": "3.5.0"
  },
  "toc": {
   "base_numbering": 1,
   "nav_menu": {},
   "number_sections": true,
   "sideBar": true,
   "skip_h1_title": false,
   "title_cell": "Table of Contents",
   "title_sidebar": "Contents",
   "toc_cell": false,
   "toc_position": {},
   "toc_section_display": true,
   "toc_window_display": false
  }
 },
 "nbformat": 4,
 "nbformat_minor": 4
}
